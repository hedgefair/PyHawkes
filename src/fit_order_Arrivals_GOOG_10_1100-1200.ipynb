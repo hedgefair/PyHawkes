{
 "cells": [
  {
   "cell_type": "markdown",
   "metadata": {},
   "source": [
    "Import dependencies and configure settings."
   ]
  },
  {
   "cell_type": "code",
   "execution_count": 1,
   "metadata": {
    "collapsed": true
   },
   "outputs": [],
   "source": [
    "import os\n",
    "import csv\n",
    "import random\n",
    "import numpy as np\n",
    "import matplotlib\n",
    "import matplotlib.pyplot as plt\n",
    "import matplotlib.cm as cm\n",
    "import scipy.stats as stats\n",
    "import statsmodels.api as sm\n",
    "\n",
    "import hawkes\n",
    "import markDistributions as md\n",
    "import scipy.optimize as op\n",
    "\n",
    "from pylab import rcParams\n",
    "from __future__ import division\n",
    "\n",
    "%matplotlib inline\n",
    "np.set_printoptions(precision=10)"
   ]
  },
  {
   "cell_type": "markdown",
   "metadata": {},
   "source": [
    "Load GOOG order message data with 10 price levels into dict, taking only order events between 2pm and 3pm:"
   ]
  },
  {
   "cell_type": "code",
   "execution_count": 2,
   "metadata": {
    "collapsed": false
   },
   "outputs": [],
   "source": [
    "dat = 'GOOG_2012-06-21_34200000_57600000_message_10'\n",
    "temp = ([],[],[],[],[],[])\n",
    "with open('../../data/'+dat+'.csv') as csvfile:\n",
    "    reader = csv.reader(csvfile)\n",
    "    for row in reader:\n",
    "        temp[0].append(float(row[0]))\n",
    "        temp[1].append(int(row[1]))\n",
    "        temp[2].append(int(row[2]))\n",
    "        temp[3].append(int(row[3]))\n",
    "        temp[4].append(int(row[4]))\n",
    "        temp[5].append(int(row[5]))\n",
    "\n",
    "orders = {'Time':None, 'Type':None, 'Order ID':None,\n",
    "        'Volume':None, 'Price':None, 'Direction':None}\n",
    "orders['Time'] = np.asarray(temp[0])\n",
    "orders['Type'] = np.asarray(temp[1])\n",
    "orders['Order ID'] = np.asarray(temp[2])\n",
    "orders['Volume'] = np.asarray(temp[3])\n",
    "orders['Price'] = np.asarray(temp[4])\n",
    "orders['Direction'] = np.asarray(temp[5])\n",
    "del temp"
   ]
  },
  {
   "cell_type": "code",
   "execution_count": 3,
   "metadata": {
    "collapsed": true
   },
   "outputs": [],
   "source": [
    "orders['Time'] = orders['Time'][(orders['Time']>39600) & (orders['Time']<43200)]\n",
    "orders['Type'] = orders['Type'][(orders['Time']>39600) & (orders['Time']<43200)]\n",
    "orders['Order ID'] = orders['Order ID'][(orders['Time']>39600) & (orders['Time']<43200)]\n",
    "orders['Volume'] = orders['Volume'][(orders['Time']>39600) & (orders['Time']<43200)]\n",
    "orders['Price'] = orders['Price'][(orders['Time']>39600) & (orders['Time']<43200)]\n",
    "orders['Direction'] = orders['Direction'][(orders['Time']>39600) & (orders['Time']<43200)]"
   ]
  },
  {
   "cell_type": "code",
   "execution_count": 4,
   "metadata": {
    "collapsed": false
   },
   "outputs": [
    {
     "name": "stdout",
     "output_type": "stream",
     "text": [
      "20573 order messages total:\n",
      "- 9963 LO submissions (48.43%)\n",
      "- 4 partial LO cancellations (0.02%)\n",
      "- 9419 LO cancellations (45.78%)\n",
      "- 654 visible LO execution (3.18%)\n",
      "- 533 hidden LO execution (2.59%)\n",
      "- 0 trading halts (0.00%)\n"
     ]
    }
   ],
   "source": [
    "ttemp = len(orders['Type'])\n",
    "print(\"{0} order messages total:\".format(len(orders['Type'])))\n",
    "temp = len(orders['Type'][orders['Type']==1])\n",
    "print(\"- {0} LO submissions ({1:.2f}%)\".format(temp,100*temp/ttemp))\n",
    "temp = len(orders['Type'][orders['Type']==2])\n",
    "print(\"- {0} partial LO cancellations ({1:.2f}%)\".format(temp,100*temp/ttemp))\n",
    "temp = len(orders['Type'][orders['Type']==3])\n",
    "print(\"- {0} LO cancellations ({1:.2f}%)\".format(temp,100*temp/ttemp))\n",
    "temp = len(orders['Type'][orders['Type']==4])\n",
    "print(\"- {0} visible LO execution ({1:.2f}%)\".format(temp,100*temp/ttemp))\n",
    "temp = len(orders['Type'][orders['Type']==5])\n",
    "print(\"- {0} hidden LO execution ({1:.2f}%)\".format(temp,100*temp/ttemp))\n",
    "temp = len(orders['Type'][orders['Type']==7])\n",
    "print(\"- {0} trading halts ({1:.2f}%)\".format(temp,100*temp/ttemp))\n",
    "del ttemp\n",
    "del temp"
   ]
  },
  {
   "cell_type": "markdown",
   "metadata": {},
   "source": [
    "Extract data into usable form."
   ]
  },
  {
   "cell_type": "code",
   "execution_count": 5,
   "metadata": {
    "collapsed": false
   },
   "outputs": [],
   "source": [
    "LTC_mask = (orders['Type']==1) | (orders['Type']==3) | (orders['Type']==4)\n",
    "t = orders['Time'][LTC_mask]\n",
    "x = orders['Volume'][LTC_mask]\n",
    "\n",
    "tmp = orders['Type'][LTC_mask]\n",
    "j = np.zeros(len(tmp),dtype=int)\n",
    "j[(tmp==1) & (orders['Direction'][LTC_mask]==-1)] = 0 # limit ask orders\n",
    "j[(tmp==1) & (orders['Direction'][LTC_mask]==1)] = 1 # limit bid orders\n",
    "j[(tmp==4) & (orders['Direction'][LTC_mask]==1)] = 2 # market ask orders\n",
    "j[(tmp==4) & (orders['Direction'][LTC_mask]==-1)] = 3 # market bid orders\n",
    "j[(tmp==3)] = 4 # cancellation order\n",
    "\n",
    "del tmp"
   ]
  },
  {
   "cell_type": "markdown",
   "metadata": {},
   "source": [
    "Initialise a 6-D Hawkes point process and set the mark distributions."
   ]
  },
  {
   "cell_type": "code",
   "execution_count": 6,
   "metadata": {
    "collapsed": false
   },
   "outputs": [],
   "source": [
    "d = 5\n",
    "h = hawkes.Hawkes(d=d)"
   ]
  },
  {
   "cell_type": "markdown",
   "metadata": {},
   "source": [
    "Fit the Pareto mark distribution to the volumes of each component. This is done separately in \"mark_distribution_GOOG_10.ipynb\"."
   ]
  },
  {
   "cell_type": "code",
   "execution_count": 7,
   "metadata": {
    "collapsed": false
   },
   "outputs": [],
   "source": [
    "markDistParam = [[ 472.1402866429,    6.326692116 ],\n",
    "                [ 1651.3639857412,    21.7848899281],\n",
    "                [ 609.4908037158,    9.3863973728],\n",
    "                [ 4319.2482825206,    68.4119066038],\n",
    "                [ 1663.2030969775,    20.4691866879]]\n",
    "h.setMarkDistParam(markDistParam)"
   ]
  },
  {
   "cell_type": "markdown",
   "metadata": {},
   "source": [
    "Fit model to data."
   ]
  },
  {
   "cell_type": "code",
   "execution_count": 8,
   "metadata": {
    "collapsed": false
   },
   "outputs": [],
   "source": [
    "result = h.MLE(t,j,x,method='L-BFGS-B')"
   ]
  },
  {
   "cell_type": "markdown",
   "metadata": {},
   "source": [
    "The fitted parameters and stability check:"
   ]
  },
  {
   "cell_type": "code",
   "execution_count": 9,
   "metadata": {
    "collapsed": false,
    "scrolled": false
   },
   "outputs": [
    {
     "name": "stdout",
     "output_type": "stream",
     "text": [
      "eta: [ 0.21693  0.21787  0.01671  0.01673  0.43256]\n",
      "\n",
      "Q: \n",
      "[[ 0.28755  0.00036  0.10533  0.19493  0.24645]\n",
      " [ 0.01123  0.28808  0.1912   0.15734  0.31208]\n",
      " [ 0.00755  0.00943  0.52635  0.00001  0.00284]\n",
      " [ 0.02085  0.00451  0.00455  0.29304  0.00001]\n",
      " [ 0.57518  0.65406  0.12557  0.35781  0.16784]]\n",
      "\n",
      "alpha: [ 10.       10.        9.0951    6.22898  10.     ]\n",
      "\n",
      "alph-beta pairs: [ 2.11621  0.       4.33364  0.00132  0.00041  0.       1.45758  0.\n",
      "  4.65102  0.     ]\n",
      "\n",
      "Spr(Q) of estimated model: 0.83799379991\n"
     ]
    }
   ],
   "source": [
    "arr = result[\"x\"]\n",
    "\n",
    "np.set_printoptions(suppress=True)\n",
    "np.set_printoptions(precision=5)\n",
    "\n",
    "print(\"\"\"eta: {0}\\n\"\"\".format(arr[:5]))\n",
    "print(\"\"\"Q: \\n{0}\\n\"\"\".format(np.reshape(arr[5:30],(5,5))))\n",
    "print(\"\"\"alpha: {0}\\n\"\"\".format(arr[30:35]))\n",
    "print(\"\"\"alph-beta pairs: {0}\\n\"\"\".format(arr[35:45]))\n",
    "\n",
    "print(\"\"\"Spr(Q) of estimated model: {0}\"\"\".format(h.ibParam.getSpectralRadius()))"
   ]
  },
  {
   "cell_type": "code",
   "execution_count": 10,
   "metadata": {
    "collapsed": false
   },
   "outputs": [
    {
     "name": "stdout",
     "output_type": "stream",
     "text": [
      "[  0.21693   0.21787   0.01671   0.01673   0.43256   0.28755   0.00036\n",
      "   0.10533   0.19493   0.24645   0.01123   0.28808   0.1912    0.15734\n",
      "   0.31208   0.00755   0.00943   0.52635   0.00001   0.00284   0.02085\n",
      "   0.00451   0.00455   0.29304   0.00001   0.57518   0.65406   0.12557\n",
      "   0.35781   0.16784  10.       10.        9.0951    6.22898  10.        2.11621\n",
      "   0.        4.33364   0.00132   0.00041   0.        1.45758   0.        4.65102\n",
      "   0.     ]\n"
     ]
    }
   ],
   "source": [
    "print arr"
   ]
  }
 ],
 "metadata": {
  "kernelspec": {
   "display_name": "Python 2",
   "language": "python",
   "name": "python2"
  },
  "language_info": {
   "codemirror_mode": {
    "name": "ipython",
    "version": 2
   },
   "file_extension": ".py",
   "mimetype": "text/x-python",
   "name": "python",
   "nbconvert_exporter": "python",
   "pygments_lexer": "ipython2",
   "version": "2.7.5"
  }
 },
 "nbformat": 4,
 "nbformat_minor": 0
}
