{
 "cells": [
  {
   "cell_type": "markdown",
   "metadata": {},
   "source": [
    "Import dependencies and configure settings."
   ]
  },
  {
   "cell_type": "code",
   "execution_count": 1,
   "metadata": {
    "collapsed": true
   },
   "outputs": [],
   "source": [
    "import os\n",
    "import csv\n",
    "import random\n",
    "import numpy as np\n",
    "import matplotlib\n",
    "import matplotlib.pyplot as plt\n",
    "import matplotlib.cm as cm\n",
    "import scipy.stats as stats\n",
    "import statsmodels.api as sm\n",
    "\n",
    "import hawkes\n",
    "import markDistributions as md\n",
    "import scipy.optimize as op\n",
    "\n",
    "from pylab import rcParams\n",
    "from __future__ import division\n",
    "\n",
    "%matplotlib inline\n",
    "np.set_printoptions(precision=10)"
   ]
  },
  {
   "cell_type": "markdown",
   "metadata": {},
   "source": [
    "Load GOOG order message data with 10 price levels into dict, taking only order events between 2pm and 3pm:"
   ]
  },
  {
   "cell_type": "code",
   "execution_count": 2,
   "metadata": {
    "collapsed": false
   },
   "outputs": [],
   "source": [
    "dat = 'GOOG_2012-06-21_34200000_57600000_message_10'\n",
    "temp = ([],[],[],[],[],[])\n",
    "with open('../../data/'+dat+'.csv') as csvfile:\n",
    "    reader = csv.reader(csvfile)\n",
    "    for row in reader:\n",
    "        temp[0].append(float(row[0]))\n",
    "        temp[1].append(int(row[1]))\n",
    "        temp[2].append(int(row[2]))\n",
    "        temp[3].append(int(row[3]))\n",
    "        temp[4].append(int(row[4]))\n",
    "        temp[5].append(int(row[5]))\n",
    "\n",
    "orders = {'Time':None, 'Type':None, 'Order ID':None,\n",
    "        'Volume':None, 'Price':None, 'Direction':None}\n",
    "orders['Time'] = np.asarray(temp[0])\n",
    "orders['Type'] = np.asarray(temp[1])\n",
    "orders['Order ID'] = np.asarray(temp[2])\n",
    "orders['Volume'] = np.asarray(temp[3])\n",
    "orders['Price'] = np.asarray(temp[4])\n",
    "orders['Direction'] = np.asarray(temp[5])\n",
    "del temp"
   ]
  },
  {
   "cell_type": "code",
   "execution_count": 3,
   "metadata": {
    "collapsed": true
   },
   "outputs": [],
   "source": [
    "orders['Time'] = orders['Time'][(orders['Time']>50400) & (orders['Time']<54000)]\n",
    "orders['Type'] = orders['Type'][(orders['Time']>50400) & (orders['Time']<54000)]\n",
    "orders['Order ID'] = orders['Order ID'][(orders['Time']>50400) & (orders['Time']<54000)]\n",
    "orders['Volume'] = orders['Volume'][(orders['Time']>50400) & (orders['Time']<54000)]\n",
    "orders['Price'] = orders['Price'][(orders['Time']>50400) & (orders['Time']<54000)]\n",
    "orders['Direction'] = orders['Direction'][(orders['Time']>50400) & (orders['Time']<54000)]"
   ]
  },
  {
   "cell_type": "code",
   "execution_count": 4,
   "metadata": {
    "collapsed": false
   },
   "outputs": [
    {
     "name": "stdout",
     "output_type": "stream",
     "text": [
      "19998 order messages total:\n",
      "- 9676 LO submissions (48.38%)\n",
      "- 4 partial LO cancellations (0.02%)\n",
      "- 9145 LO cancellations (45.73%)\n",
      "- 644 visible LO execution (3.22%)\n",
      "- 529 hidden LO execution (2.65%)\n",
      "- 0 trading halts (0.00%)\n"
     ]
    }
   ],
   "source": [
    "ttemp = len(orders['Type'])\n",
    "print(\"{0} order messages total:\".format(len(orders['Type'])))\n",
    "temp = len(orders['Type'][orders['Type']==1])\n",
    "print(\"- {0} LO submissions ({1:.2f}%)\".format(temp,100*temp/ttemp))\n",
    "temp = len(orders['Type'][orders['Type']==2])\n",
    "print(\"- {0} partial LO cancellations ({1:.2f}%)\".format(temp,100*temp/ttemp))\n",
    "temp = len(orders['Type'][orders['Type']==3])\n",
    "print(\"- {0} LO cancellations ({1:.2f}%)\".format(temp,100*temp/ttemp))\n",
    "temp = len(orders['Type'][orders['Type']==4])\n",
    "print(\"- {0} visible LO execution ({1:.2f}%)\".format(temp,100*temp/ttemp))\n",
    "temp = len(orders['Type'][orders['Type']==5])\n",
    "print(\"- {0} hidden LO execution ({1:.2f}%)\".format(temp,100*temp/ttemp))\n",
    "temp = len(orders['Type'][orders['Type']==7])\n",
    "print(\"- {0} trading halts ({1:.2f}%)\".format(temp,100*temp/ttemp))\n",
    "del ttemp\n",
    "del temp"
   ]
  },
  {
   "cell_type": "markdown",
   "metadata": {},
   "source": [
    "Extract data into usable form."
   ]
  },
  {
   "cell_type": "code",
   "execution_count": 4,
   "metadata": {
    "collapsed": false
   },
   "outputs": [],
   "source": [
    "LTC_mask = (orders['Type']==1) | (orders['Type']==3) | (orders['Type']==4)\n",
    "t = orders['Time'][LTC_mask]\n",
    "x = orders['Volume'][LTC_mask]\n",
    "\n",
    "j = orders['Type'][LTC_mask]\n",
    "j[(j==1) & (orders['Direction'][LTC_mask]==-1)] = 0 # limit ask orders\n",
    "j[(j==1) & (orders['Direction'][LTC_mask]==1)] = 1 # limit bid orders\n",
    "j[(j==3) & (orders['Direction'][LTC_mask]==-1)] = 2 # limit ask orders cancellation\n",
    "j[(j==3) & (orders['Direction'][LTC_mask]==1)] = 3 # limit bid orders cancellation\n",
    "j[(j==4) & (orders['Direction'][LTC_mask]==1)] = 4 # market ask orders\n",
    "j[(j==4) & (orders['Direction'][LTC_mask]==-1)] = 5 # market bid orders"
   ]
  },
  {
   "cell_type": "markdown",
   "metadata": {},
   "source": [
    "Initialise a 6-D Hawkes point process and set the mark distributions."
   ]
  },
  {
   "cell_type": "code",
   "execution_count": 5,
   "metadata": {
    "collapsed": false
   },
   "outputs": [],
   "source": [
    "d = 6\n",
    "h = hawkes.Hawkes(d=d)"
   ]
  },
  {
   "cell_type": "markdown",
   "metadata": {},
   "source": [
    "Fit the Pareto mark distribution to the volumes of each component. This is done separately in \"mark_distribution_GOOG_10.ipynb\"."
   ]
  },
  {
   "cell_type": "code",
   "execution_count": 6,
   "metadata": {
    "collapsed": false
   },
   "outputs": [],
   "source": [
    "markDistParam = [[470.4065983066, 6.2452733954],\n",
    "                [1859.1482390663, 24.303771531],\n",
    "                [448.0381138347, 5.9565764744],\n",
    "                [767.8397123258, 10.5256303422],\n",
    "                [566.2681280976, 8.7936728955],\n",
    "                [3335.1005300322, 53.1459950274]]\n",
    "h.setMarkDistParam(markDistParam)"
   ]
  },
  {
   "cell_type": "markdown",
   "metadata": {},
   "source": [
    "Fit model to data."
   ]
  },
  {
   "cell_type": "code",
   "execution_count": 7,
   "metadata": {
    "collapsed": false
   },
   "outputs": [],
   "source": [
    "result = h.MLE(t,j,x,method='L-BFGS-B')"
   ]
  },
  {
   "cell_type": "markdown",
   "metadata": {},
   "source": [
    "The fitted parameters and stability check:"
   ]
  },
  {
   "cell_type": "code",
   "execution_count": 17,
   "metadata": {
    "collapsed": false,
    "scrolled": false
   },
   "outputs": [
    {
     "name": "stdout",
     "output_type": "stream",
     "text": [
      "eta: [ 0.26558  0.24677  0.24886  0.23342  0.02999  0.0276 ]\n",
      "\n",
      "Q: \n",
      "[[ 0.18211  0.02212  0.48243  0.17668  0.67913  0.38455]\n",
      " [ 0.00537  0.17683  0.10281  0.47556  0.3432   0.71057]\n",
      " [ 0.436    0.11057  0.16461  0.00264  0.21806  0.46511]\n",
      " [ 0.10361  0.40197  0.00999  0.18594  0.45128  0.21576]\n",
      " [ 0.00563  0.00576  0.00138  0.00328  0.66088  0.00373]\n",
      " [ 0.00793  0.00473  0.00596  0.00001  0.00944  0.67765]]\n",
      "\n",
      "alpha: [ 10.  10.  10.  10.  10.  10.]\n",
      "\n",
      "alph: [ 73.03494   0.        1.96604   0.00069   0.86737  25.89727]\n",
      "\n",
      "beta: [ 5.82846  0.00796  7.11414  0.02453  3.52462  0.02047]\n",
      "\n",
      "Spr(Q) of estimated model: 0.848014699814\n"
     ]
    }
   ],
   "source": [
    "arr = result[\"x\"]\n",
    "\n",
    "np.set_printoptions(suppress=True)\n",
    "np.set_printoptions(precision=5)\n",
    "\n",
    "print(\"\"\"eta: {0}\\n\"\"\".format(arr[:6]))\n",
    "print(\"\"\"Q: \\n{0}\\n\"\"\".format(np.reshape(arr[6:42],(6,6))))\n",
    "print(\"\"\"alpha: {0}\\n\"\"\".format(arr[42:48]))\n",
    "print(\"\"\"alph: {0}\\n\"\"\".format(arr[48:54]))\n",
    "print(\"\"\"beta: {0}\\n\"\"\".format(arr[54:60]))\n",
    "\n",
    "print(\"\"\"Spr(Q) of estimated model: {0}\"\"\".format(h.ibParam.getSpectralRadius()))"
   ]
  },
  {
   "cell_type": "code",
   "execution_count": 10,
   "metadata": {
    "collapsed": false
   },
   "outputs": [
    {
     "name": "stdout",
     "output_type": "stream",
     "text": [
      "[  0.2655821625   0.2467706365   0.2488595796   0.2334196466   0.0299931322\n",
      "   0.0275962919   0.182111157    0.0221222508   0.4824290013   0.1766814967\n",
      "   0.6791265038   0.3845468916   0.005365127    0.1768301375   0.102805278\n",
      "   0.4755566209   0.3431998706   0.7105693583   0.4359995561   0.1105672259\n",
      "   0.1646056628   0.0026448732   0.2180595295   0.4651086535   0.1036088955\n",
      "   0.4019705048   0.0099944545   0.185940748    0.4512819143   0.2157649044\n",
      "   0.0056324858   0.0057599176   0.0013837344   0.0032767781   0.6608806473\n",
      "   0.0037258582   0.0079340917   0.0047258357   0.0059642156   0.00001\n",
      "   0.0094382205   0.6776540789  10.            10.            10.            10.\n",
      "  10.            10.            73.0349372448   0.             1.9660371753\n",
      "   0.0006869116   0.8673730157  25.8972730011   5.8284634569   0.0079625467\n",
      "   7.1141382424   0.0245273974   3.5246200308   0.0204672999]\n",
      "60\n"
     ]
    }
   ],
   "source": [
    "print arr\n",
    "print len(arr)"
   ]
  }
 ],
 "metadata": {
  "kernelspec": {
   "display_name": "Python 2",
   "language": "python",
   "name": "python2"
  },
  "language_info": {
   "codemirror_mode": {
    "name": "ipython",
    "version": 2
   },
   "file_extension": ".py",
   "mimetype": "text/x-python",
   "name": "python",
   "nbconvert_exporter": "python",
   "pygments_lexer": "ipython2",
   "version": "2.7.6"
  }
 },
 "nbformat": 4,
 "nbformat_minor": 0
}
