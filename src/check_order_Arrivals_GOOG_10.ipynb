{
 "cells": [
  {
   "cell_type": "markdown",
   "metadata": {},
   "source": [
    "Import dependencies and configure settings."
   ]
  },
  {
   "cell_type": "code",
   "execution_count": 3,
   "metadata": {
    "collapsed": true
   },
   "outputs": [],
   "source": [
    "import os\n",
    "import csv\n",
    "import random\n",
    "import numpy as np\n",
    "import matplotlib\n",
    "import matplotlib.pyplot as plt\n",
    "import matplotlib.cm as cm\n",
    "import scipy.stats as stats\n",
    "import statsmodels.api as sm\n",
    "\n",
    "import hawkes\n",
    "import markDistributions as md\n",
    "import scipy.optimize as op\n",
    "\n",
    "from pylab import rcParams\n",
    "from __future__ import division\n",
    "\n",
    "%matplotlib inline\n",
    "np.set_printoptions(precision=10)"
   ]
  },
  {
   "cell_type": "markdown",
   "metadata": {},
   "source": [
    "Load data."
   ]
  },
  {
   "cell_type": "code",
   "execution_count": 4,
   "metadata": {
    "collapsed": false
   },
   "outputs": [],
   "source": [
    "dat = 'GOOG_2012-06-21_34200000_57600000_message_10'\n",
    "temp = ([],[],[],[],[],[])\n",
    "with open('../../data/'+dat+'.csv') as csvfile:\n",
    "    reader = csv.reader(csvfile)\n",
    "    for row in reader:\n",
    "        temp[0].append(float(row[0]))\n",
    "        temp[1].append(int(row[1]))\n",
    "        temp[2].append(int(row[2]))\n",
    "        temp[3].append(int(row[3]))\n",
    "        temp[4].append(int(row[4]))\n",
    "        temp[5].append(int(row[5]))\n",
    "\n",
    "orders = {'Time':None, 'Type':None, 'Order ID':None,\n",
    "        'Volume':None, 'Price':None, 'Direction':None}\n",
    "orders['Time'] = np.asarray(temp[0])\n",
    "orders['Type'] = np.asarray(temp[1])\n",
    "orders['Order ID'] = np.asarray(temp[2])\n",
    "orders['Volume'] = np.asarray(temp[3])\n",
    "orders['Price'] = np.asarray(temp[4])\n",
    "orders['Direction'] = np.asarray(temp[5])\n",
    "del temp"
   ]
  },
  {
   "cell_type": "code",
   "execution_count": 5,
   "metadata": {
    "collapsed": false
   },
   "outputs": [
    {
     "name": "stdout",
     "output_type": "stream",
     "text": [
      "147916 order messages total:\n",
      "- 71258 LO submissions (48.17%)\n",
      "- 19 partial LO cancellations (0.01%)\n",
      "- 64961 LO cancellations (43.92%)\n",
      "- 7765 visible LO execution (5.25%)\n",
      "- 3913 hidden LO execution (2.65%)\n",
      "- 0 trading halts (0.00%)\n"
     ]
    }
   ],
   "source": [
    "ttemp = len(orders['Type'])\n",
    "print(\"{0} order messages total:\".format(len(orders['Type'])))\n",
    "temp = len(orders['Type'][orders['Type']==1])\n",
    "print(\"- {0} LO submissions ({1:.2f}%)\".format(temp,100*temp/ttemp))\n",
    "temp = len(orders['Type'][orders['Type']==2])\n",
    "print(\"- {0} partial LO cancellations ({1:.2f}%)\".format(temp,100*temp/ttemp))\n",
    "temp = len(orders['Type'][orders['Type']==3])\n",
    "print(\"- {0} LO cancellations ({1:.2f}%)\".format(temp,100*temp/ttemp))\n",
    "temp = len(orders['Type'][orders['Type']==4])\n",
    "print(\"- {0} visible LO execution ({1:.2f}%)\".format(temp,100*temp/ttemp))\n",
    "temp = len(orders['Type'][orders['Type']==5])\n",
    "print(\"- {0} hidden LO execution ({1:.2f}%)\".format(temp,100*temp/ttemp))\n",
    "temp = len(orders['Type'][orders['Type']==7])\n",
    "print(\"- {0} trading halts ({1:.2f}%)\".format(temp,100*temp/ttemp))\n",
    "del ttemp\n",
    "del temp"
   ]
  },
  {
   "cell_type": "markdown",
   "metadata": {},
   "source": [
    "Extract data into usable form."
   ]
  },
  {
   "cell_type": "code",
   "execution_count": 6,
   "metadata": {
    "collapsed": false
   },
   "outputs": [],
   "source": [
    "LTC_mask = (orders['Type']==1) | (orders['Type']==3) | (orders['Type']==4)\n",
    "t = orders['Time'][LTC_mask]\n",
    "x = orders['Volume'][LTC_mask]\n",
    "\n",
    "j = orders['Type'][LTC_mask]\n",
    "j[(j==1) & (orders['Direction'][LTC_mask]==-1)] = 0 # limit ask orders\n",
    "j[(j==1) & (orders['Direction'][LTC_mask]==1)] = 1 # limit bid orders\n",
    "j[(j==3) & (orders['Direction'][LTC_mask]==-1)] = 2 # limit ask orders cancellation\n",
    "j[(j==3) & (orders['Direction'][LTC_mask]==1)] = 3 # limit bid orders cancellation\n",
    "j[(j==4) & (orders['Direction'][LTC_mask]==1)] = 4 # market ask orders\n",
    "j[(j==4) & (orders['Direction'][LTC_mask]==-1)] = 5 # market bid orders"
   ]
  },
  {
   "cell_type": "markdown",
   "metadata": {},
   "source": [
    "Initialise a 6-D Hawkes point process and set the parameters."
   ]
  },
  {
   "cell_type": "code",
   "execution_count": 7,
   "metadata": {
    "collapsed": false
   },
   "outputs": [],
   "source": [
    "sparam =[  0.2655821625,   0.2467706365,   0.2488595796,   0.2334196466,   0.0299931322,\n",
    "   0.0275962919,   0.182111157,    0.0221222508,   0.4824290013,   0.1766814967,\n",
    "   0.6791265038,   0.3845468916,   0.005365127,    0.1768301375,   0.102805278,\n",
    "   0.4755566209,   0.3431998706,   0.7105693583,   0.4359995561,   0.1105672259,\n",
    "   0.1646056628,   0.0026448732,   0.2180595295,   0.4651086535,   0.1036088955,\n",
    "   0.4019705048,   0.0099944545,   0.185940748,    0.4512819143,   0.2157649044,\n",
    "   0.0056324858,   0.0057599176,   0.0013837344,   0.0032767781,   0.6608806473,\n",
    "   0.0037258582,   0.0079340917,   0.0047258357,   0.0059642156,   0.00001,\n",
    "   0.0094382205,   0.6776540789,  10.,            10.,            10.,            10.,\n",
    "  10.,            10.,            73.0349372448, 0.,             1.9660371753,\n",
    "   0.0006869116,   0.8673730157,  25.8972730011,   5.8284634569,   0.0079625467,\n",
    "   7.1141382424,   0.0245273974,   3.5246200308,   0.0204672999]"
   ]
  },
  {
   "cell_type": "code",
   "execution_count": 8,
   "metadata": {
    "collapsed": false
   },
   "outputs": [],
   "source": [
    "d = 6\n",
    "h = hawkes.Hawkes(d=d)\n",
    "h.setParam(sparam)"
   ]
  },
  {
   "cell_type": "code",
   "execution_count": null,
   "metadata": {
    "collapsed": false
   },
   "outputs": [],
   "source": [
    "markDistParam = [[128.56423972,3.275861426],\n",
    "                [243.9044504278,4.3688862849],\n",
    "                [97.8188721767,2.4801852406],\n",
    "                [339.2756753572,5.8696885604],\n",
    "                [460.4339503846,8.0904052855],\n",
    "                [1115.865179198,18.8074665174]]\n",
    "h.setMarkDistParam(markDistParam)"
   ]
  },
  {
   "cell_type": "markdown",
   "metadata": {},
   "source": [
    "Obtain residual process."
   ]
  },
  {
   "cell_type": "code",
   "execution_count": null,
   "metadata": {
    "collapsed": true
   },
   "outputs": [],
   "source": [
    "j_, t_, x_, tau, xi = h.Residual(t,j,x)"
   ]
  },
  {
   "cell_type": "markdown",
   "metadata": {},
   "source": [
    "Q-Q plot:"
   ]
  },
  {
   "cell_type": "code",
   "execution_count": null,
   "metadata": {
    "collapsed": true
   },
   "outputs": [],
   "source": [
    "# s0 = t_[j_==0]\n",
    "# s1 = t_[j_==1]\n",
    "# intervals0 = s0[1:] - s0[:-1]\n",
    "# intervals1 = s1[1:] - s1[:-1]"
   ]
  }
 ],
 "metadata": {
  "kernelspec": {
   "display_name": "Python 2",
   "language": "python",
   "name": "python2"
  },
  "language_info": {
   "codemirror_mode": {
    "name": "ipython",
    "version": 2
   },
   "file_extension": ".py",
   "mimetype": "text/x-python",
   "name": "python",
   "nbconvert_exporter": "python",
   "pygments_lexer": "ipython2",
   "version": "2.7.6"
  }
 },
 "nbformat": 4,
 "nbformat_minor": 0
}
