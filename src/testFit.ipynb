{
 "cells": [
  {
   "cell_type": "markdown",
   "metadata": {},
   "source": [
    "# Testing the MLE Fitting Functions\n",
    "\n",
    "The Hawkes module implements the multivariate Hawkes marked point process. We assume an exponential decay function is used to improve the numerical computation of the intensity function [Liniger, 2012]."
   ]
  },
  {
   "cell_type": "markdown",
   "metadata": {},
   "source": [
    "Generating artificial points to be used as data for fit (see simulation notebook):"
   ]
  },
  {
   "cell_type": "code",
   "execution_count": 106,
   "metadata": {
    "collapsed": false,
    "scrolled": true
   },
   "outputs": [],
   "source": [
    "import hawkes\n",
    "import markDistributions as md\n",
    "import numpy as np\n",
    "import scipy.optimize as op\n",
    "import matplotlib\n",
    "import matplotlib.pyplot as plt\n",
    "import matplotlib.cm as cm\n",
    "from pylab import rcParams\n",
    "\n",
    "%matplotlib inline\n",
    "np.set_printoptions(precision=3, suppress=True)\n",
    "rcParams['figure.figsize'] = 16, 5\n",
    "\n",
    "d=2\n",
    "numPoints=7200\n",
    "\n",
    "eta=[0.021,0.029]\n",
    "Q=[0.61,0.16,0.6,0.06]\n",
    "alpha=[0.005]*d\n",
    "mu=[3.6,4.2]\n",
    "rho=[5.6,7.2]\n",
    "alph=[0.47,1.1]\n",
    "beta=[0.22,0.0]\n",
    "gmma=[0.0,0.0]\n",
    "\n",
    "mdParam1=[alph[0],beta[0],gmma[0]]\n",
    "mdParam2=[alph[1],beta[1],gmma[1]]\n",
    "\n",
    "sparam = []\n",
    "sparam.extend(eta)\n",
    "sparam.extend(Q)\n",
    "sparam.extend(alpha)\n",
    "sparam.extend(mdParam1)\n",
    "sparam.extend(mdParam2)\n",
    "\n",
    "markparam = [[mu[0],rho[0]],[mu[1],rho[1]]]\n",
    "\n",
    "sim = hawkes.Hawkes(d=d)\n",
    "sim.setParam(sparam)\n",
    "sim.setMarkDistParam(markparam)\n",
    "\n",
    "t,j,x = sim.simulate(numPoints)[0]"
   ]
  },
  {
   "cell_type": "markdown",
   "metadata": {
    "collapsed": true
   },
   "source": [
    "Setup a seperate Hawkes marked point process:"
   ]
  },
  {
   "cell_type": "code",
   "execution_count": 107,
   "metadata": {
    "collapsed": false,
    "scrolled": true
   },
   "outputs": [],
   "source": [
    "h = hawkes.Hawkes(d=d)\n",
    "h.setMarkDistParam(markparam)"
   ]
  },
  {
   "cell_type": "markdown",
   "metadata": {},
   "source": [
    "Fit the new Hawkes process to the simulated data using L-BFGS-B:"
   ]
  },
  {
   "cell_type": "code",
   "execution_count": 109,
   "metadata": {
    "collapsed": false
   },
   "outputs": [],
   "source": [
    "nLL = lambda *args: - h.LogLikelihood(*args)\n",
    "\n",
    "result = op.minimize( fun = nLL,\n",
    "                     x0 = h._initRandomValues(),\n",
    "                     args = (t,j,x),\n",
    "                     method = 'L-BFGS-B',\n",
    "                     jac = False,\n",
    "                     bounds = h._paramBounds(),\n",
    "                     options = {'disp': True} )"
   ]
  },
  {
   "cell_type": "markdown",
   "metadata": {},
   "source": [
    "Investigating optimization result:"
   ]
  },
  {
   "cell_type": "code",
   "execution_count": 115,
   "metadata": {
    "collapsed": false,
    "scrolled": false
   },
   "outputs": [
    {
     "name": "stdout",
     "output_type": "stream",
     "text": [
      "eta:\n",
      "        [ 0.033  0.039] - estimated\n",
      "        [ 0.021  0.029] - true\n",
      "\n",
      "Q:\n",
      "        [ 0.544  0.103  0.586  0.   ] - estimated\n",
      "        [ 0.61  0.16  0.6   0.06] - true\n",
      "\n",
      "alpha:\n",
      "        [ 0.006  0.007] - estimated\n",
      "        [ 0.005  0.005] - true\n",
      "\n",
      "alph:\n",
      "        [ 6.074  2.87 ] - estimated\n",
      "        [ 0.47  1.1 ] - true\n",
      "\n",
      "beta:\n",
      "        [  0.     14.941] - estimated\n",
      "        [ 0.22  0.  ] - true\n",
      "\n",
      "gmma:\n",
      "        [ 3.336  0.   ] - estimated\n",
      "        [ 0.  0.] - true\n",
      "\n",
      "Spr(Q) of estimated model: 0.638632497252\n"
     ]
    }
   ],
   "source": [
    "arr = result[\"x\"]\n",
    "\n",
    "print(\"\"\"eta:\n",
    "        {0} - estimated\n",
    "        {1} - true\\n\"\"\".format(arr[:2],np.asarray(eta)))\n",
    "print(\"\"\"Q:\n",
    "        {0} - estimated\n",
    "        {1} - true\\n\"\"\".format(arr[2:6],np.asarray(Q)))\n",
    "print(\"\"\"alpha:\n",
    "        {0} - estimated\n",
    "        {1} - true\\n\"\"\".format(arr[6:8],np.asarray(alpha)))\n",
    "print(\"\"\"alph:\n",
    "        {0} - estimated\n",
    "        {1} - true\\n\"\"\".format(arr[8:10],np.asarray(alph)))\n",
    "print(\"\"\"beta:\n",
    "        {0} - estimated\n",
    "        {1} - true\\n\"\"\".format(arr[10:12],np.asarray(beta)))\n",
    "print(\"\"\"gmma:\n",
    "        {0} - estimated\n",
    "        {1} - true\\n\"\"\".format(arr[12:14],np.asarray(gmma)))\n",
    "\n",
    "print(\"\"\"Spr(Q) of estimated model: {0}\"\"\".format(h.ibParam.getSpectralRadius()))"
   ]
  }
 ],
 "metadata": {
  "kernelspec": {
   "display_name": "Python 2",
   "language": "python",
   "name": "python2"
  },
  "language_info": {
   "codemirror_mode": {
    "name": "ipython",
    "version": 2
   },
   "file_extension": ".py",
   "mimetype": "text/x-python",
   "name": "python",
   "nbconvert_exporter": "python",
   "pygments_lexer": "ipython2",
   "version": "2.7.6"
  }
 },
 "nbformat": 4,
 "nbformat_minor": 0
}
