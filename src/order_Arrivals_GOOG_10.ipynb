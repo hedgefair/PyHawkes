{
 "cells": [
  {
   "cell_type": "markdown",
   "metadata": {},
   "source": [
    "Import dependencies and configure settings."
   ]
  },
  {
   "cell_type": "code",
   "execution_count": 1,
   "metadata": {
    "collapsed": true
   },
   "outputs": [],
   "source": [
    "import os\n",
    "import csv\n",
    "import random\n",
    "import numpy as np\n",
    "import matplotlib\n",
    "import matplotlib.pyplot as plt\n",
    "import matplotlib.cm as cm\n",
    "import scipy.stats as stats\n",
    "import statsmodels.api as sm\n",
    "\n",
    "import hawkes\n",
    "import markDistributions as md\n",
    "import scipy.optimize as op\n",
    "\n",
    "from pylab import rcParams\n",
    "from __future__ import division\n",
    "\n",
    "%matplotlib inline\n",
    "np.set_printoptions(precision=10)"
   ]
  },
  {
   "cell_type": "markdown",
   "metadata": {},
   "source": [
    "Load data."
   ]
  },
  {
   "cell_type": "code",
   "execution_count": 2,
   "metadata": {
    "collapsed": false
   },
   "outputs": [],
   "source": [
    "dat = 'GOOG_2012-06-21_34200000_57600000_message_10'\n",
    "temp = ([],[],[],[],[],[])\n",
    "with open('../../data/'+dat+'.csv') as csvfile:\n",
    "    reader = csv.reader(csvfile)\n",
    "    for row in reader:\n",
    "        temp[0].append(float(row[0]))\n",
    "        temp[1].append(int(row[1]))\n",
    "        temp[2].append(int(row[2]))\n",
    "        temp[3].append(int(row[3]))\n",
    "        temp[4].append(int(row[4]))\n",
    "        temp[5].append(int(row[5]))\n",
    "\n",
    "orders = {'Time':None, 'Type':None, 'Order ID':None,\n",
    "        'Volume':None, 'Price':None, 'Direction':None}\n",
    "orders['Time'] = np.asarray(temp[0])\n",
    "orders['Type'] = np.asarray(temp[1])\n",
    "orders['Order ID'] = np.asarray(temp[2])\n",
    "orders['Volume'] = np.asarray(temp[3])\n",
    "orders['Price'] = np.asarray(temp[4])\n",
    "orders['Direction'] = np.asarray(temp[5])\n",
    "del temp"
   ]
  },
  {
   "cell_type": "code",
   "execution_count": 3,
   "metadata": {
    "collapsed": false
   },
   "outputs": [
    {
     "name": "stdout",
     "output_type": "stream",
     "text": [
      "147916 order messages total:\n",
      "- 71258 LO submissions (48.17%)\n",
      "- 19 partial LO cancellations (0.01%)\n",
      "- 64961 LO cancellations (43.92%)\n",
      "- 7765 visible LO execution (5.25%)\n",
      "- 3913 hidden LO execution (2.65%)\n",
      "- 0 trading halts (0.00%)\n"
     ]
    }
   ],
   "source": [
    "ttemp = len(orders['Type'])\n",
    "print(\"{0} order messages total:\".format(len(orders['Type'])))\n",
    "temp = len(orders['Type'][orders['Type']==1])\n",
    "print(\"- {0} LO submissions ({1:.2f}%)\".format(temp,100*temp/ttemp))\n",
    "temp = len(orders['Type'][orders['Type']==2])\n",
    "print(\"- {0} partial LO cancellations ({1:.2f}%)\".format(temp,100*temp/ttemp))\n",
    "temp = len(orders['Type'][orders['Type']==3])\n",
    "print(\"- {0} LO cancellations ({1:.2f}%)\".format(temp,100*temp/ttemp))\n",
    "temp = len(orders['Type'][orders['Type']==4])\n",
    "print(\"- {0} visible LO execution ({1:.2f}%)\".format(temp,100*temp/ttemp))\n",
    "temp = len(orders['Type'][orders['Type']==5])\n",
    "print(\"- {0} hidden LO execution ({1:.2f}%)\".format(temp,100*temp/ttemp))\n",
    "temp = len(orders['Type'][orders['Type']==7])\n",
    "print(\"- {0} trading halts ({1:.2f}%)\".format(temp,100*temp/ttemp))\n",
    "del ttemp\n",
    "del temp"
   ]
  },
  {
   "cell_type": "markdown",
   "metadata": {},
   "source": [
    "Extract data into usable form."
   ]
  },
  {
   "cell_type": "code",
   "execution_count": 4,
   "metadata": {
    "collapsed": false
   },
   "outputs": [],
   "source": [
    "LTC_mask = (orders['Type']==1) | (orders['Type']==3) | (orders['Type']==4)\n",
    "t = orders['Time'][LTC_mask]\n",
    "x = orders['Volume'][LTC_mask]\n",
    "\n",
    "j = orders['Type'][LTC_mask]\n",
    "j[(j==1) & (orders['Direction'][LTC_mask]==-1)] = 0 # limit ask orders\n",
    "j[(j==1) & (orders['Direction'][LTC_mask]==1)] = 1 # limit bid orders\n",
    "j[(j==3) & (orders['Direction'][LTC_mask]==-1)] = 2 # limit ask orders cancellation\n",
    "j[(j==3) & (orders['Direction'][LTC_mask]==1)] = 3 # limit bid orders cancellation\n",
    "j[(j==4) & (orders['Direction'][LTC_mask]==1)] = 4 # market ask orders\n",
    "j[(j==4) & (orders['Direction'][LTC_mask]==-1)] = 5 # market bid orders"
   ]
  },
  {
   "cell_type": "markdown",
   "metadata": {},
   "source": [
    "Initialise a 6-D Hawkes point process and set the mark distributions."
   ]
  },
  {
   "cell_type": "code",
   "execution_count": 5,
   "metadata": {
    "collapsed": false
   },
   "outputs": [],
   "source": [
    "d = 6\n",
    "h = hawkes.Hawkes(d=d)"
   ]
  },
  {
   "cell_type": "markdown",
   "metadata": {},
   "source": [
    "Fit the Pareto mark distribution to the volumes of each component. This is done separately in \"mark_distribution_GOOG_10.ipynb\"."
   ]
  },
  {
   "cell_type": "code",
   "execution_count": null,
   "metadata": {
    "collapsed": false
   },
   "outputs": [],
   "source": [
    "markDistParam = [[128.56423972,3.275861426],\n",
    "                [243.9044504278,4.3688862849],\n",
    "                [97.8188721767,2.4801852406],\n",
    "                [339.2756753572,5.8696885604],\n",
    "                [460.4339503846,8.0904052855],\n",
    "                [1115.865179198,18.8074665174]]\n",
    "h.setMarkDistParam(markDistParam)"
   ]
  },
  {
   "cell_type": "markdown",
   "metadata": {},
   "source": [
    "Fit model to data."
   ]
  },
  {
   "cell_type": "code",
   "execution_count": null,
   "metadata": {
    "collapsed": false
   },
   "outputs": [],
   "source": [
    "result = h.MLE(t,j,x,method='L-BFGS-B')"
   ]
  },
  {
   "cell_type": "markdown",
   "metadata": {},
   "source": [
    "The fitted parameters and stability check:"
   ]
  },
  {
   "cell_type": "code",
   "execution_count": null,
   "metadata": {
    "collapsed": false
   },
   "outputs": [],
   "source": [
    "arr = result[\"x\"]\n",
    "\n",
    "np.set_printoptions(suppress=True)\n",
    "\n",
    "print(\"\"\"eta: {0}\\n\"\"\".format(arr[:6]))\n",
    "print(\"\"\"Q: {0}\\n\"\"\".format(arr[6:15]))\n",
    "print(\"\"\"alpha: {0}\\n\"\"\".format(arr[15:18]))\n",
    "print(\"\"\"alph: {0}\\n\"\"\".format(arr[18:21]))\n",
    "print(\"\"\"beta: {0}\\n\"\"\".format(arr[21:23]))\n",
    "\n",
    "print(\"\"\"Spr(Q) of estimated model: {0}\"\"\".format(h.ibParam.getSpectralRadius()))"
   ]
  }
 ],
 "metadata": {
  "kernelspec": {
   "display_name": "Python 2",
   "language": "python",
   "name": "python2"
  },
  "language_info": {
   "codemirror_mode": {
    "name": "ipython",
    "version": 2
   },
   "file_extension": ".py",
   "mimetype": "text/x-python",
   "name": "python",
   "nbconvert_exporter": "python",
   "pygments_lexer": "ipython2",
   "version": "2.7.5"
  }
 },
 "nbformat": 4,
 "nbformat_minor": 0
}
