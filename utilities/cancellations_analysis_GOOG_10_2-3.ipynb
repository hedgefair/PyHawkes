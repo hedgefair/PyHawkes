{
 "cells": [
  {
   "cell_type": "markdown",
   "metadata": {},
   "source": [
    "Import dependencies and configure settings."
   ]
  },
  {
   "cell_type": "code",
   "execution_count": 1,
   "metadata": {
    "collapsed": false
   },
   "outputs": [],
   "source": [
    "import os\n",
    "import csv\n",
    "import random\n",
    "import numpy as np\n",
    "import matplotlib\n",
    "import matplotlib.pyplot as plt\n",
    "import matplotlib.cm as cm\n",
    "import scipy.stats as stats\n",
    "import statsmodels.api as sm\n",
    "\n",
    "from pylab import rcParams\n",
    "from __future__ import division\n",
    "\n",
    "%matplotlib inline\n",
    "np.set_printoptions(precision=10)"
   ]
  },
  {
   "cell_type": "markdown",
   "metadata": {},
   "source": [
    "Load GOOG order message data with 10 price levels into dict, taking only order events between 2pm and 3pm:"
   ]
  },
  {
   "cell_type": "code",
   "execution_count": 2,
   "metadata": {
    "collapsed": false
   },
   "outputs": [],
   "source": [
    "dat = 'GOOG_2012-06-21_34200000_57600000_message_10'\n",
    "temp = ([],[],[],[],[],[])\n",
    "with open('../data/'+dat+'.csv') as csvfile:\n",
    "    reader = csv.reader(csvfile)\n",
    "    for row in reader:\n",
    "        temp[0].append(float(row[0]))\n",
    "        temp[1].append(int(row[1]))\n",
    "        temp[2].append(int(row[2]))\n",
    "        temp[3].append(int(row[3]))\n",
    "        temp[4].append(int(row[4]))\n",
    "        temp[5].append(int(row[5]))\n",
    "\n",
    "orders = {'Time':None, 'Type':None, 'Order ID':None,\n",
    "        'Volume':None, 'Price':None, 'Direction':None}\n",
    "orders['Time'] = np.asarray(temp[0])\n",
    "orders['Type'] = np.asarray(temp[1])\n",
    "orders['Order ID'] = np.asarray(temp[2])\n",
    "orders['Volume'] = np.asarray(temp[3])\n",
    "orders['Price'] = np.asarray(temp[4])\n",
    "orders['Direction'] = np.asarray(temp[5])\n",
    "del temp"
   ]
  },
  {
   "cell_type": "code",
   "execution_count": 3,
   "metadata": {
    "collapsed": true
   },
   "outputs": [],
   "source": [
    "orders['Time'] = orders['Time'][(orders['Time']>50400) & (orders['Time']<54000)]\n",
    "orders['Type'] = orders['Type'][(orders['Time']>50400) & (orders['Time']<54000)]\n",
    "orders['Order ID'] = orders['Order ID'][(orders['Time']>50400) & (orders['Time']<54000)]\n",
    "orders['Volume'] = orders['Volume'][(orders['Time']>50400) & (orders['Time']<54000)]\n",
    "orders['Price'] = orders['Price'][(orders['Time']>50400) & (orders['Time']<54000)]\n",
    "orders['Direction'] = orders['Direction'][(orders['Time']>50400) & (orders['Time']<54000)]"
   ]
  },
  {
   "cell_type": "markdown",
   "metadata": {},
   "source": [
    "Looking at the distribution of the order types in the order flow between 2pm to 3pm, we have:"
   ]
  },
  {
   "cell_type": "code",
   "execution_count": 4,
   "metadata": {
    "collapsed": false
   },
   "outputs": [
    {
     "name": "stdout",
     "output_type": "stream",
     "text": [
      "19998 order messages total:\n",
      "- 9676 LO submissions (48.38%)\n",
      "- 4 partial LO cancellations (0.02%)\n",
      "- 9145 LO cancellations (45.73%)\n",
      "- 644 visible LO execution (3.22%)\n",
      "- 529 hidden LO execution (2.65%)\n",
      "- 0 trading halts (0.00%)\n"
     ]
    }
   ],
   "source": [
    "ttemp = len(orders['Type'])\n",
    "print(\"{0} order messages total:\".format(len(orders['Type'])))\n",
    "temp = len(orders['Type'][orders['Type']==1])\n",
    "print(\"- {0} LO submissions ({1:.2f}%)\".format(temp,100*temp/ttemp))\n",
    "temp = len(orders['Type'][orders['Type']==2])\n",
    "print(\"- {0} partial LO cancellations ({1:.2f}%)\".format(temp,100*temp/ttemp))\n",
    "temp = len(orders['Type'][orders['Type']==3])\n",
    "print(\"- {0} LO cancellations ({1:.2f}%)\".format(temp,100*temp/ttemp))\n",
    "temp = len(orders['Type'][orders['Type']==4])\n",
    "print(\"- {0} visible LO execution ({1:.2f}%)\".format(temp,100*temp/ttemp))\n",
    "temp = len(orders['Type'][orders['Type']==5])\n",
    "print(\"- {0} hidden LO execution ({1:.2f}%)\".format(temp,100*temp/ttemp))\n",
    "temp = len(orders['Type'][orders['Type']==7])\n",
    "print(\"- {0} trading halts ({1:.2f}%)\".format(temp,100*temp/ttemp))\n",
    "del ttemp\n",
    "del temp"
   ]
  },
  {
   "cell_type": "markdown",
   "metadata": {},
   "source": [
    "Finding unique order IDs."
   ]
  },
  {
   "cell_type": "code",
   "execution_count": 5,
   "metadata": {
    "collapsed": false
   },
   "outputs": [],
   "source": [
    "_cancel = []\n",
    "for i in np.unique(orders['Order ID']):\n",
    "    otype = orders['Type'][orders['Order ID']==i]\n",
    "    if (3 in otype) & (otype[0]==1):\n",
    "        _cancel.append(orders['Time'][orders['Order ID']==i][-1] - orders['Time'][orders['Order ID']==i][0])\n",
    "\n",
    "cancel = np.asarray(_cancel)"
   ]
  },
  {
   "cell_type": "markdown",
   "metadata": {},
   "source": [
    "Analysing the cancellations of limit orders."
   ]
  },
  {
   "cell_type": "code",
   "execution_count": 6,
   "metadata": {
    "collapsed": false
   },
   "outputs": [
    {
     "name": "stdout",
     "output_type": "stream",
     "text": [
      "8954 limit orders were cancelled\n",
      "Longest duration before cancellation is 825.582677081 seconds\n",
      "Shortest duration before cancellation is 0.0 seconds\n",
      "Mean duration before cancellation is 6.39578912934 seconds\n"
     ]
    }
   ],
   "source": [
    "print \"{} limit orders were cancelled\".format(len(cancel))\n",
    "print \"Longest duration before cancellation is {} seconds\".format(max(cancel))\n",
    "print \"Shortest duration before cancellation is {} seconds\".format(min(cancel))\n",
    "print \"Mean duration before cancellation is {} seconds\".format(np.mean(cancel))"
   ]
  },
  {
   "cell_type": "code",
   "execution_count": 7,
   "metadata": {
    "collapsed": false
   },
   "outputs": [
    {
     "data": {
      "image/png": "[encoded data removed]",
      "text/plain": [
       "<matplotlib.figure.Figure at 0x7fd87534ed10>"
      ]
     },
     "metadata": {},
     "output_type": "display_data"
    }
   ],
   "source": [
    "rcParams['figure.figsize'] = 18, 6\n",
    "plt.plot(np.arange(len(cancel)), cancel)\n",
    "plt.title('Durations Before a Limit Order is Cancelled')\n",
    "plt.axis([0, len(cancel), min(cancel), max(cancel)])\n",
    "plt.show()"
   ]
  },
  {
   "cell_type": "code",
   "execution_count": 8,
   "metadata": {
    "collapsed": false
   },
   "outputs": [
    {
     "data": {
      "image/png": "[encoded data removed]",
      "text/plain": [
       "<matplotlib.figure.Figure at 0x7fd8768d9b90>"
      ]
     },
     "metadata": {},
     "output_type": "display_data"
    }
   ],
   "source": [
    "ecdf = sm.distributions.ECDF(cancel)\n",
    "x = np.sort(cancel)\n",
    "y = ecdf(x)\n",
    "\n",
    "rcParams['figure.figsize'] = 16, 6\n",
    "plt.step(x, y)\n",
    "plt.title('Empirical Cumulative Density Function of the LO Durations')\n",
    "plt.axis([min(x)-1, max(x), min(y), max(y)+0.05])\n",
    "plt.show()\n",
    "\n",
    "del ecdf\n",
    "del x\n",
    "del y"
   ]
  }
 ],
 "metadata": {
  "kernelspec": {
   "display_name": "Python 2",
   "language": "python",
   "name": "python2"
  },
  "language_info": {
   "codemirror_mode": {
    "name": "ipython",
    "version": 2
   },
   "file_extension": ".py",
   "mimetype": "text/x-python",
   "name": "python",
   "nbconvert_exporter": "python",
   "pygments_lexer": "ipython2",
   "version": "2.7.6"
  }
 },
 "nbformat": 4,
 "nbformat_minor": 0
}
